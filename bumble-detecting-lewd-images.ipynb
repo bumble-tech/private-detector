{
 "cells": [
  {
   "cell_type": "code",
   "execution_count": 1,
   "id": "89f1f026",
   "metadata": {
    "_cell_guid": "b1076dfc-b9ad-4769-8c92-a6c4dae69d19",
    "_uuid": "8f2839f25d086af736a60e9eeb907d3b93b6e0e5",
    "execution": {
     "iopub.execute_input": "2022-10-26T19:27:05.868100Z",
     "iopub.status.busy": "2022-10-26T19:27:05.867030Z",
     "iopub.status.idle": "2022-10-26T19:27:07.886557Z",
     "shell.execute_reply": "2022-10-26T19:27:07.885150Z"
    },
    "papermill": {
     "duration": 2.029836,
     "end_time": "2022-10-26T19:27:07.889579",
     "exception": false,
     "start_time": "2022-10-26T19:27:05.859743",
     "status": "completed"
    },
    "tags": []
   },
   "outputs": [
    {
     "name": "stdout",
     "output_type": "stream",
     "text": [
      "Cloning into 'private-detector'...\r\n",
      "remote: Enumerating objects: 37, done.\u001b[K\r\n",
      "remote: Counting objects: 100% (37/37), done.\u001b[K\r\n",
      "remote: Compressing objects: 100% (37/37), done.\u001b[K\r\n",
      "remote: Total 37 (delta 10), reused 20 (delta 0), pack-reused 0\u001b[K\r\n",
      "Unpacking objects: 100% (37/37), 50.62 KiB | 673.00 KiB/s, done.\r\n"
     ]
    }
   ],
   "source": [
    "!git clone \"https://github.com/bumble-tech/private-detector.git\""
   ]
  },
  {
   "attachments": {
    "e771afc5-78d2-4fae-8632-fe611e570783.png": {
     "image/png": "[encoded data removed]"
    }
   },
   "cell_type": "markdown",
   "id": "52d4933d",
   "metadata": {
    "papermill": {
     "duration": 0.004197,
     "end_time": "2022-10-26T19:27:07.898975",
     "exception": false,
     "start_time": "2022-10-26T19:27:07.894778",
     "status": "completed"
    },
    "tags": []
   },
   "source": [
    "# Bumble Private Detector\n",
    "\n",
    "![](data:image/jpeg;base64,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)\n",
    "\n",
    "This is the repo for Bumble's Private Detector™ model - an image classifier that can detect lewd images.\n",
    "\n",
    "The internal repo has been heavily refactored and released as a fully open-source project to allow for the wider community to use and finetune a Private Detector model of their own. You can download the pretrained SavedModel and checkpoint\n",
    "\n",
    "taken and adapted entirely from \"https://github.com/bumble-tech/private-detector#private-detector\"![download.png](attachment:e771afc5-78d2-4fae-8632-fe611e570783.png)"
   ]
  },
  {
   "cell_type": "code",
   "execution_count": 2,
   "id": "4e99a472",
   "metadata": {
    "execution": {
     "iopub.execute_input": "2022-10-26T19:27:07.910093Z",
     "iopub.status.busy": "2022-10-26T19:27:07.909692Z",
     "iopub.status.idle": "2022-10-26T19:27:07.917159Z",
     "shell.execute_reply": "2022-10-26T19:27:07.915978Z"
    },
    "papermill": {
     "duration": 0.016124,
     "end_time": "2022-10-26T19:27:07.919625",
     "exception": false,
     "start_time": "2022-10-26T19:27:07.903501",
     "status": "completed"
    },
    "tags": []
   },
   "outputs": [
    {
     "name": "stdout",
     "output_type": "stream",
     "text": [
      "/kaggle/working/private-detector\n"
     ]
    }
   ],
   "source": [
    "%cd private-detector"
   ]
  },
  {
   "cell_type": "code",
   "execution_count": 3,
   "id": "88ff6189",
   "metadata": {
    "execution": {
     "iopub.execute_input": "2022-10-26T19:27:07.930031Z",
     "iopub.status.busy": "2022-10-26T19:27:07.929666Z",
     "iopub.status.idle": "2022-10-26T19:27:14.211453Z",
     "shell.execute_reply": "2022-10-26T19:27:14.210418Z"
    },
    "papermill": {
     "duration": 6.289954,
     "end_time": "2022-10-26T19:27:14.214019",
     "exception": false,
     "start_time": "2022-10-26T19:27:07.924065",
     "status": "completed"
    },
    "tags": []
   },
   "outputs": [],
   "source": [
    "import argparse\n",
    "from typing import List\n",
    "\n",
    "import tensorflow as tf\n",
    "from absl import logging as absl_logging\n",
    "\n",
    "from private_detector.utils.preprocess import preprocess_for_evaluation\n",
    "\n",
    "\n",
    "def read_image(filename: str) -> tf.Tensor:\n",
    "    \"\"\"\n",
    "    Load and preprocess image for inference with the Private Detector\n",
    "\n",
    "    Parameters\n",
    "    ----------\n",
    "    filename : str\n",
    "        Filename of image\n",
    "\n",
    "    Returns\n",
    "    -------\n",
    "    image : tf.Tensor\n",
    "        Image ready for inference\n",
    "    \"\"\"\n",
    "    image = tf.io.read_file(filename)\n",
    "    image = tf.io.decode_jpeg(image, channels=3)\n",
    "\n",
    "    image = preprocess_for_evaluation(\n",
    "        image,\n",
    "        480,\n",
    "        tf.float16\n",
    "    )\n",
    "\n",
    "    image = tf.reshape(image, -1)\n",
    "\n",
    "    return image\n",
    "\n",
    "\n",
    "def inference(model: str , image_paths: List[str]) -> None:\n",
    "    \"\"\"\n",
    "    Get predictions with a Private Detector model\n",
    "\n",
    "    Parameters\n",
    "    ----------\n",
    "    model : str\n",
    "        Path to saved model\n",
    "    image_paths : List[str]\n",
    "        Path(s) to image to be predicted on\n",
    "    \"\"\"\n",
    "    print(image_paths)\n",
    "    model = tf.saved_model.load(model)\n",
    "\n",
    "    for image_path in image_paths:\n",
    "        print(image_path)\n",
    "        image = read_image(image_path)\n",
    "\n",
    "        preds = model([image])\n",
    "\n",
    "        print(f'Probability: {100 * tf.get_static_value(preds[0])[0]:.2f}% - {image_path}')\n",
    "\n",
    "\n"
   ]
  },
  {
   "cell_type": "code",
   "execution_count": 4,
   "id": "6f678e97",
   "metadata": {
    "execution": {
     "iopub.execute_input": "2022-10-26T19:27:14.225418Z",
     "iopub.status.busy": "2022-10-26T19:27:14.224795Z",
     "iopub.status.idle": "2022-10-26T19:27:17.798659Z",
     "shell.execute_reply": "2022-10-26T19:27:17.797459Z"
    },
    "papermill": {
     "duration": 3.582755,
     "end_time": "2022-10-26T19:27:17.801520",
     "exception": false,
     "start_time": "2022-10-26T19:27:14.218765",
     "status": "completed"
    },
    "tags": []
   },
   "outputs": [
    {
     "name": "stdout",
     "output_type": "stream",
     "text": [
      "--2022-10-26 19:27:15--  https://storage.googleapis.com/private_detector/private_detector.zip\r\n",
      "Resolving storage.googleapis.com (storage.googleapis.com)... 173.194.213.128, 74.125.134.128, 173.194.218.128, ...\r\n",
      "Connecting to storage.googleapis.com (storage.googleapis.com)|173.194.213.128|:443... connected.\r\n",
      "HTTP request sent, awaiting response... 200 OK\r\n",
      "Length: 395624935 (377M) [application/zip]\r\n",
      "Saving to: ‘private_detector.zip’\r\n",
      "\r\n",
      "private_detector.zi 100%[===================>] 377.30M   171MB/s    in 2.2s    \r\n",
      "\r\n",
      "2022-10-26 19:27:17 (171 MB/s) - ‘private_detector.zip’ saved [395624935/395624935]\r\n",
      "\r\n"
     ]
    }
   ],
   "source": [
    "# downloading the pretrained model\n",
    "!wget \"https://storage.googleapis.com/private_detector/private_detector.zip\""
   ]
  },
  {
   "cell_type": "code",
   "execution_count": 5,
   "id": "0184c7b5",
   "metadata": {
    "execution": {
     "iopub.execute_input": "2022-10-26T19:27:17.814946Z",
     "iopub.status.busy": "2022-10-26T19:27:17.813975Z",
     "iopub.status.idle": "2022-10-26T19:27:18.914201Z",
     "shell.execute_reply": "2022-10-26T19:27:18.912710Z"
    },
    "papermill": {
     "duration": 1.109737,
     "end_time": "2022-10-26T19:27:18.916837",
     "exception": false,
     "start_time": "2022-10-26T19:27:17.807100",
     "status": "completed"
    },
    "tags": []
   },
   "outputs": [
    {
     "name": "stdout",
     "output_type": "stream",
     "text": [
      "LICENSE    environment.yaml  private_detector\t   train.py\r\n",
      "README.md  inference.py      private_detector.zip\r\n"
     ]
    }
   ],
   "source": [
    "!dir"
   ]
  },
  {
   "cell_type": "code",
   "execution_count": 6,
   "id": "74627d62",
   "metadata": {
    "execution": {
     "iopub.execute_input": "2022-10-26T19:27:18.930991Z",
     "iopub.status.busy": "2022-10-26T19:27:18.930145Z",
     "iopub.status.idle": "2022-10-26T19:27:24.866985Z",
     "shell.execute_reply": "2022-10-26T19:27:24.865861Z"
    },
    "papermill": {
     "duration": 5.946916,
     "end_time": "2022-10-26T19:27:24.869582",
     "exception": false,
     "start_time": "2022-10-26T19:27:18.922666",
     "status": "completed"
    },
    "tags": []
   },
   "outputs": [
    {
     "name": "stdout",
     "output_type": "stream",
     "text": [
      "Archive:  ./private_detector.zip\r\n",
      "   creating: downloaded/private_detector/\r\n",
      "  inflating: downloaded/__MACOSX/._private_detector  \r\n",
      "   creating: downloaded/private_detector/saved_checkpoint/\r\n",
      "  inflating: downloaded/__MACOSX/private_detector/._saved_checkpoint  \r\n",
      "  inflating: downloaded/private_detector/.DS_Store  \r\n",
      "  inflating: downloaded/__MACOSX/private_detector/._.DS_Store  \r\n",
      "   creating: downloaded/private_detector/saved_model/\r\n",
      "  inflating: downloaded/__MACOSX/private_detector/._saved_model  \r\n",
      "  inflating: downloaded/private_detector/LICENSE  \r\n",
      "  inflating: downloaded/__MACOSX/private_detector/._LICENSE  \r\n",
      "  inflating: downloaded/private_detector/saved_checkpoint/ckpt-0.9375-14.index  \r\n",
      "  inflating: downloaded/__MACOSX/private_detector/saved_checkpoint/._ckpt-0.9375-14.index  \r\n",
      "  inflating: downloaded/private_detector/saved_checkpoint/.DS_Store  \r\n",
      "  inflating: downloaded/__MACOSX/private_detector/saved_checkpoint/._.DS_Store  \r\n",
      "  inflating: downloaded/private_detector/saved_checkpoint/checkpoint  \r\n",
      "  inflating: downloaded/__MACOSX/private_detector/saved_checkpoint/._checkpoint  \r\n",
      "  inflating: downloaded/private_detector/saved_checkpoint/ckpt-0.9375-14.data-00000-of-00001  \r\n",
      "  inflating: downloaded/__MACOSX/private_detector/saved_checkpoint/._ckpt-0.9375-14.data-00000-of-00001  \r\n",
      "  inflating: downloaded/private_detector/saved_model/.DS_Store  \r\n",
      "  inflating: downloaded/__MACOSX/private_detector/saved_model/._.DS_Store  \r\n",
      "   creating: downloaded/private_detector/saved_model/variables/\r\n",
      "  inflating: downloaded/__MACOSX/private_detector/saved_model/._variables  \r\n",
      "  inflating: downloaded/private_detector/saved_model/saved_model.pb  \r\n",
      "  inflating: downloaded/__MACOSX/private_detector/saved_model/._saved_model.pb  \r\n",
      "   creating: downloaded/private_detector/saved_model/assets/\r\n",
      "  inflating: downloaded/__MACOSX/private_detector/saved_model/._assets  \r\n",
      "  inflating: downloaded/private_detector/saved_model/variables/variables.data-00000-of-00001  \r\n",
      "  inflating: downloaded/__MACOSX/private_detector/saved_model/variables/._variables.data-00000-of-00001  \r\n",
      "  inflating: downloaded/private_detector/saved_model/variables/variables.index  \r\n",
      "  inflating: downloaded/__MACOSX/private_detector/saved_model/variables/._variables.index  \r\n"
     ]
    }
   ],
   "source": [
    "!unzip ./private_detector.zip -d downloaded"
   ]
  },
  {
   "cell_type": "code",
   "execution_count": 7,
   "id": "665231ba",
   "metadata": {
    "execution": {
     "iopub.execute_input": "2022-10-26T19:27:24.882976Z",
     "iopub.status.busy": "2022-10-26T19:27:24.882591Z",
     "iopub.status.idle": "2022-10-26T19:27:26.786245Z",
     "shell.execute_reply": "2022-10-26T19:27:26.784980Z"
    },
    "papermill": {
     "duration": 1.91363,
     "end_time": "2022-10-26T19:27:26.788882",
     "exception": false,
     "start_time": "2022-10-26T19:27:24.875252",
     "status": "completed"
    },
    "tags": []
   },
   "outputs": [
    {
     "name": "stdout",
     "output_type": "stream",
     "text": [
      "--2022-10-26 19:27:25--  https://www.pngall.com/wp-content/uploads/2016/04/Happy-Person-Free-Download-PNG.png\r\n",
      "Resolving www.pngall.com (www.pngall.com)... 78.159.114.6\r\n",
      "Connecting to www.pngall.com (www.pngall.com)|78.159.114.6|:443... connected.\r\n",
      "HTTP request sent, awaiting response... 200 OK\r\n",
      "Length: unspecified [image/png]\r\n",
      "Saving to: ‘happy.png’\r\n",
      "\r\n",
      "happy.png               [ <=>                ]  26.93K  --.-KB/s    in 0s      \r\n",
      "\r\n",
      "2022-10-26 19:27:26 (148 MB/s) - ‘happy.png’ saved [27575]\r\n",
      "\r\n"
     ]
    }
   ],
   "source": [
    "# getting the image\n",
    "! wget \"https://www.pngall.com/wp-content/uploads/2016/04/Happy-Person-Free-Download-PNG.png\" -O \"happy.png\""
   ]
  },
  {
   "cell_type": "code",
   "execution_count": 8,
   "id": "2ca27577",
   "metadata": {
    "execution": {
     "iopub.execute_input": "2022-10-26T19:27:26.803138Z",
     "iopub.status.busy": "2022-10-26T19:27:26.802719Z",
     "iopub.status.idle": "2022-10-26T19:27:29.009317Z",
     "shell.execute_reply": "2022-10-26T19:27:29.008162Z"
    },
    "papermill": {
     "duration": 2.217159,
     "end_time": "2022-10-26T19:27:29.012186",
     "exception": false,
     "start_time": "2022-10-26T19:27:26.795027",
     "status": "completed"
    },
    "tags": []
   },
   "outputs": [
    {
     "name": "stdout",
     "output_type": "stream",
     "text": [
      "total 386448\r\n",
      "drwxr-xr-x 5 root root      4096 Oct 26 19:27 .\r\n",
      "drwxr-xr-x 3 root root      4096 Oct 26 19:27 ..\r\n",
      "drwxr-xr-x 8 root root      4096 Oct 26 19:27 .git\r\n",
      "-rw-r--r-- 1 root root     11336 Oct 26 19:27 LICENSE\r\n",
      "-rw-r--r-- 1 root root      5075 Oct 26 19:27 README.md\r\n",
      "drwxr-xr-x 4 root root      4096 Oct 26 19:27 downloaded\r\n",
      "-rw-r--r-- 1 root root       309 Oct 26 19:27 environment.yaml\r\n",
      "-rw-r--r-- 1 root root     27575 Oct 26 19:27 happy.png\r\n",
      "-rw-r--r-- 1 root root      1739 Oct 26 19:27 inference.py\r\n",
      "drwxr-xr-x 3 root root      4096 Oct 26 19:27 private_detector\r\n",
      "-rw-r--r-- 1 root root 395624935 Oct 25 12:21 private_detector.zip\r\n",
      "-rw-r--r-- 1 root root     11074 Oct 26 19:27 train.py\r\n",
      "/kaggle/working/private-detector\r\n"
     ]
    }
   ],
   "source": [
    "!ls -al\n",
    "!pwd"
   ]
  },
  {
   "cell_type": "code",
   "execution_count": 9,
   "id": "e5555599",
   "metadata": {
    "execution": {
     "iopub.execute_input": "2022-10-26T19:27:29.030059Z",
     "iopub.status.busy": "2022-10-26T19:27:29.029633Z",
     "iopub.status.idle": "2022-10-26T19:27:30.168276Z",
     "shell.execute_reply": "2022-10-26T19:27:30.167031Z"
    },
    "papermill": {
     "duration": 1.151621,
     "end_time": "2022-10-26T19:27:30.171221",
     "exception": false,
     "start_time": "2022-10-26T19:27:29.019600",
     "status": "completed"
    },
    "tags": []
   },
   "outputs": [
    {
     "name": "stdout",
     "output_type": "stream",
     "text": [
      "LICENSE    downloaded\t     happy.png\t   private_detector\t train.py\r\n",
      "README.md  environment.yaml  inference.py  private_detector.zip\r\n"
     ]
    }
   ],
   "source": [
    "!dir"
   ]
  },
  {
   "cell_type": "code",
   "execution_count": 10,
   "id": "772f89a9",
   "metadata": {
    "execution": {
     "iopub.execute_input": "2022-10-26T19:27:30.186124Z",
     "iopub.status.busy": "2022-10-26T19:27:30.185726Z",
     "iopub.status.idle": "2022-10-26T19:27:41.180823Z",
     "shell.execute_reply": "2022-10-26T19:27:41.179297Z"
    },
    "papermill": {
     "duration": 11.006179,
     "end_time": "2022-10-26T19:27:41.183731",
     "exception": false,
     "start_time": "2022-10-26T19:27:30.177552",
     "status": "completed"
    },
    "tags": []
   },
   "outputs": [
    {
     "name": "stdout",
     "output_type": "stream",
     "text": [
      "LICENSE    downloaded\t     happy.png\t   private_detector\t train.py\r\n",
      "README.md  environment.yaml  inference.py  private_detector.zip\r\n",
      "/kaggle/working/private-detector\r\n",
      "\r\n",
      "\r\n",
      "\r\n",
      "The following additional packages will be installed:\r\n",
      "  libmagic-mgc libmagic1\r\n",
      "The following NEW packages will be installed:\r\n",
      "  file libmagic-mgc libmagic1\r\n",
      "0 upgraded, 3 newly installed, 0 to remove and 74 not upgraded.\r\n",
      "Need to get 317 kB of archives.\r\n",
      "After this operation, 6174 kB of additional disk space will be used.\r\n",
      "Get:1 http://archive.ubuntu.com/ubuntu focal/main amd64 libmagic-mgc amd64 1:5.38-4 [218 kB]\r\n",
      "Get:2 http://archive.ubuntu.com/ubuntu focal/main amd64 libmagic1 amd64 1:5.38-4 [75.9 kB]\r\n",
      "Get:3 http://archive.ubuntu.com/ubuntu focal/main amd64 file amd64 1:5.38-4 [23.3 kB]\r\n",
      "Fetched 317 kB in 1s (527 kB/s)\r\n",
      "\n",
      "\u001b7\u001b[0;23r\u001b8\u001b[1ASelecting previously unselected package libmagic-mgc.\r\n",
      "(Reading database ... 106350 files and directories currently installed.)\r\n",
      "Preparing to unpack .../libmagic-mgc_1%3a5.38-4_amd64.deb ...\r\n",
      "\u001b7\u001b[24;0f\u001b[42m\u001b[30mProgress: [  0%]\u001b[49m\u001b[39m [..........................................................] \u001b8\u001b7\u001b[24;0f\u001b[42m\u001b[30mProgress: [  8%]\u001b[49m\u001b[39m [####......................................................] \u001b8Unpacking libmagic-mgc (1:5.38-4) ...\r\n",
      "\u001b7\u001b[24;0f\u001b[42m\u001b[30mProgress: [ 15%]\u001b[49m\u001b[39m [########..................................................] \u001b8Selecting previously unselected package libmagic1:amd64.\r\n",
      "Preparing to unpack .../libmagic1_1%3a5.38-4_amd64.deb ...\r\n",
      "\u001b7\u001b[24;0f\u001b[42m\u001b[30mProgress: [ 23%]\u001b[49m\u001b[39m [#############.............................................] \u001b8Unpacking libmagic1:amd64 (1:5.38-4) ...\r\n",
      "\u001b7\u001b[24;0f\u001b[42m\u001b[30mProgress: [ 31%]\u001b[49m\u001b[39m [#################.........................................] \u001b8Selecting previously unselected package file.\r\n",
      "Preparing to unpack .../file_1%3a5.38-4_amd64.deb ...\r\n",
      "\u001b7\u001b[24;0f\u001b[42m\u001b[30mProgress: [ 38%]\u001b[49m\u001b[39m [######################....................................] \u001b8Unpacking file (1:5.38-4) ...\r\n",
      "\u001b7\u001b[24;0f\u001b[42m\u001b[30mProgress: [ 46%]\u001b[49m\u001b[39m [##########################................................] \u001b8Setting up libmagic-mgc (1:5.38-4) ...\r\n",
      "\u001b7\u001b[24;0f\u001b[42m\u001b[30mProgress: [ 54%]\u001b[49m\u001b[39m [###############################...........................] \u001b8\u001b7\u001b[24;0f\u001b[42m\u001b[30mProgress: [ 62%]\u001b[49m\u001b[39m [###################################.......................] \u001b8Setting up libmagic1:amd64 (1:5.38-4) ...\r\n",
      "\u001b7\u001b[24;0f\u001b[42m\u001b[30mProgress: [ 69%]\u001b[49m\u001b[39m [########################################..................] \u001b8\u001b7\u001b[24;0f\u001b[42m\u001b[30mProgress: [ 77%]\u001b[49m\u001b[39m [############################################..............] \u001b8Setting up file (1:5.38-4) ...\r\n",
      "\u001b7\u001b[24;0f\u001b[42m\u001b[30mProgress: [ 85%]\u001b[49m\u001b[39m [#################################################.........] \u001b8\u001b7\u001b[24;0f\u001b[42m\u001b[30mProgress: [ 92%]\u001b[49m\u001b[39m [#####################################################.....] \u001b8Processing triggers for libc-bin (2.31-0ubuntu9.9) ...\r\n",
      "Processing triggers for man-db (2.9.1-1) ...\r\n",
      "\r\n",
      "\u001b7\u001b[0;24r\u001b8\u001b[1A\u001b[Jhappy.png: PNG image data, 275 x 261, 8-bit colormap, non-interlaced\r\n"
     ]
    }
   ],
   "source": [
    "!ls\n",
    "!pwd\n",
    "!sudo apt install file -y\n",
    "!file happy.png"
   ]
  },
  {
   "cell_type": "code",
   "execution_count": 11,
   "id": "b8f71775",
   "metadata": {
    "execution": {
     "iopub.execute_input": "2022-10-26T19:27:41.204718Z",
     "iopub.status.busy": "2022-10-26T19:27:41.204282Z",
     "iopub.status.idle": "2022-10-26T19:27:41.216372Z",
     "shell.execute_reply": "2022-10-26T19:27:41.215283Z"
    },
    "papermill": {
     "duration": 0.025469,
     "end_time": "2022-10-26T19:27:41.218820",
     "exception": false,
     "start_time": "2022-10-26T19:27:41.193351",
     "status": "completed"
    },
    "tags": []
   },
   "outputs": [
    {
     "data": {
      "image/png": "[encoded data removed]",
      "text/plain": [
       "<IPython.core.display.Image object>"
      ]
     },
     "execution_count": 11,
     "metadata": {},
     "output_type": "execute_result"
    }
   ],
   "source": [
    "import os\n",
    "from IPython.display import Image\n",
    "Image(filename=\"/kaggle/working/private-detector/happy.png\")"
   ]
  },
  {
   "cell_type": "code",
   "execution_count": 12,
   "id": "1bfd160e",
   "metadata": {
    "execution": {
     "iopub.execute_input": "2022-10-26T19:27:41.239716Z",
     "iopub.status.busy": "2022-10-26T19:27:41.239329Z",
     "iopub.status.idle": "2022-10-26T19:28:08.025573Z",
     "shell.execute_reply": "2022-10-26T19:28:08.024538Z"
    },
    "papermill": {
     "duration": 26.799695,
     "end_time": "2022-10-26T19:28:08.028223",
     "exception": false,
     "start_time": "2022-10-26T19:27:41.228528",
     "status": "completed"
    },
    "tags": []
   },
   "outputs": [
    {
     "name": "stdout",
     "output_type": "stream",
     "text": [
      "['/kaggle/working/private-detector/happy.png']\n"
     ]
    },
    {
     "name": "stderr",
     "output_type": "stream",
     "text": [
      "2022-10-26 19:27:42.404207: I tensorflow/core/common_runtime/process_util.cc:146] Creating new thread pool with default inter op setting: 2. Tune using inter_op_parallelism_threads for best performance.\n"
     ]
    },
    {
     "name": "stdout",
     "output_type": "stream",
     "text": [
      "/kaggle/working/private-detector/happy.png\n"
     ]
    },
    {
     "name": "stderr",
     "output_type": "stream",
     "text": [
      "Cleanup called...\n",
      "2022-10-26 19:28:03.580635: I tensorflow/compiler/mlir/mlir_graph_optimization_pass.cc:185] None of the MLIR Optimization Passes are enabled (registered 2)\n"
     ]
    },
    {
     "name": "stdout",
     "output_type": "stream",
     "text": [
      "Probability: 5.46% - /kaggle/working/private-detector/happy.png\n"
     ]
    }
   ],
   "source": [
    "tf.get_logger().setLevel('ERROR')\n",
    "absl_logging.set_verbosity(absl_logging.ERROR)\n",
    "\n",
    "#parser = argparse.ArgumentParser()\n",
    "\n",
    "#parser.add_argument(\n",
    "#        '--model',\n",
    "#        type=str,\n",
    "#        required=True,\n",
    "#        help='Location of SavedModel to load'\n",
    "#    )\n",
    "\n",
    "#parser.add_argument(\n",
    "#        '--image_paths',\n",
    "#        type=str,\n",
    "#        nargs='+',\n",
    "#        required=True,\n",
    "#        help='Paths to image paths to predict for'\n",
    "#    )\n",
    "\n",
    "#args = parser.parse_args()\n",
    "#inference(**vars(args))\n",
    "\n",
    "inference('./downloaded/private_detector/saved_model/',['/kaggle/working/private-detector/happy.png'] )\n"
   ]
  }
 ],
 "metadata": {
  "kernelspec": {
   "display_name": "Python 3",
   "language": "python",
   "name": "python3"
  },
  "language_info": {
   "codemirror_mode": {
    "name": "ipython",
    "version": 3
   },
   "file_extension": ".py",
   "mimetype": "text/x-python",
   "name": "python",
   "nbconvert_exporter": "python",
   "pygments_lexer": "ipython3",
   "version": "3.7.12"
  },
  "papermill": {
   "default_parameters": {},
   "duration": 73.359859,
   "end_time": "2022-10-26T19:28:10.761325",
   "environment_variables": {},
   "exception": null,
   "input_path": "__notebook__.ipynb",
   "output_path": "__notebook__.ipynb",
   "parameters": {},
   "start_time": "2022-10-26T19:26:57.401466",
   "version": "2.3.4"
  }
 },
 "nbformat": 4,
 "nbformat_minor": 5
}
